{
 "cells": [
  {
   "cell_type": "markdown",
   "metadata": {},
   "source": [
    "<center>\n",
    "<h1> TP-Projet d'optimisation numérique </h1>\n",
    "<h1> Algorithme du lagrangien augmenté </h1>\n",
    "</center>"
   ]
  },
  {
   "cell_type": "markdown",
   "metadata": {},
   "source": [
    "## Implémentation\n",
    "\n",
    "1. Implémenter l'algorithme du lagrangien augmenté, en utilisant les différentes méthodes\n",
    "qui ont été vues en première partie pour la résolution de la suite de problèmes sans\n",
    "contraintes (fichier `src/lagrangien_augmente.jl`). La spécification est donnée dans le fichier.\n",
    "2. Vérifier que les tests ci-dessous passent.\n",
    " "
   ]
  },
  {
   "cell_type": "code",
   "execution_count": 1,
   "metadata": {},
   "outputs": [
    {
     "name": "stdout",
     "output_type": "stream",
     "text": [
      "Affichage des résultats des algorithmes : false\n",
      "\n",
      "\u001b[0m\u001b[1mTest Summary:         | \u001b[22m\u001b[32m\u001b[1mPass  \u001b[22m\u001b[39m\u001b[36m\u001b[1mTotal  \u001b[22m\u001b[39m\u001b[0m\u001b[1m Time\u001b[22m\n",
      "Lagrangien augmenté   | \u001b[32m  12  \u001b[39m\u001b[36m   12  \u001b[39m\u001b[0m11.7s\n"
     ]
    }
   ],
   "source": [
    "include(\"../src/Lagrangien_Augmente.jl\")\n",
    "include(\"../test/tester_lagrangien_augmente.jl\")\n",
    "\n",
    "#\n",
    "afficher = false # si true, alors affiche les résultats des algorithmes\n",
    "\n",
    "#\n",
    "tester_lagrangien_augmente(lagrangien_augmente, afficher);\n"
   ]
  },
  {
   "cell_type": "markdown",
   "metadata": {},
   "source": [
    "## Interprétation\n",
    "\n",
    " 1. Commenter les résultats obtenus, en étudiant notamment les valeurs en sortie de $\\lambda_k$ et $\\mu_k$.\n",
    " 2. Étudier l'influence du paramètre $\\tau$ dans la performance de l'algorithme. Pour cela Vous réaliserez des tests numériques."
   ]
  },
  {
   "cell_type": "markdown",
   "metadata": {},
   "source": [
    "## Réponses \n",
    "\n",
    "**Question 1** :\n",
    "\n",
    "Les résultats que nous avons obtenues se rapprochent fortement des solutions exactes, et ce, en un nombre d'itérations assez réduit. \n",
    "La valeur de λ varie considérablement en fonction de la fonction examinée, elle est d'environ 4,5 pour la fonction \n",
    "fct1 ([2.0, 2.0, 2.0, 4.247191011235952, 4.247191011235952, 4.486536799414925, 4.499283024820915, 4.499961817889869]), et d'environ \n",
    "0.038 pour la fonction fct2 ([2.0, 2.0, 2.0, 0.044107067804553424, 0.038665453796571825, 0.03865139770756798]).  On observe que la sortie \n",
    "est très élevée, indiquant ainsi que la solution du problème sans contrainte ne respecte pas les contraintes appliquées. En revanche, la \n",
    "valeur de μ dépend du point initial choisi pour lancer l'algorithme, et cette valeur reste constante même en changeant d'algorithme pour calculer\n",
    "le minimum du problème sans contraintes à l'intérieur de la boucle principale de l'algorithme. μ joue un rôle essentiel en réduisant le nombre \n",
    "d'itérations et en rendant des résolutions plus rapides. Cependant, il est intéressant de noter que sa valeur finale augmente à chaque itération, \n",
    "suggérant une persistance dans la violation des contraintes.\n",
    "\n",
    "**Question 2** :\n",
    "\n",
    "L'augmentation de τ améliore la convergence de l'algorithme en mettant davantage l'accent sur la précision de la fonction comme critère d'arrêt. \n",
    "Le choix de τ influe sur le nombre d'itérations et la valeur finale obtenue, avec un impact significatif sur la convergence. Un τ plus faible \n",
    "favorise une meilleure convergence, tandis qu'un τ plus élevé permet une convergence plus rapide."
   ]
  },
  {
   "cell_type": "code",
   "execution_count": 2,
   "metadata": {},
   "outputs": [
    {
     "name": "stdout",
     "output_type": "stream",
     "text": [
      "\u001b[31m\u001b[1mle cas de test 1\u001b[22m\u001b[39m\n",
      "-------------------------------------------------------------------------\n",
      "\u001b[34m\u001b[1mRésultats de : lagrangien_augmente pour τ=2  appliqué à f1:\u001b[22m\u001b[39m\n",
      "  * x0       = [0, 1, 1]\n",
      "  * x_sol    = [0.5000042424566808, 1.2499978787716595, 0.5000042424566811]\n",
      "  * f(x_sol) = 2.249961818051857\n",
      "  * nb_iters = 7\n",
      "  * flag     = 0\n",
      "  * solution = [0.5, 1.25, 0.5]\n",
      "\u001b[31m\u001b[1mle cas de test 2\u001b[22m\u001b[39m\n",
      "-------------------------------------------------------------------------\n",
      "\u001b[34m\u001b[1mRésultats de : lagrangien_augmente pour τ=6  appliqué à f1:\u001b[22m\u001b[39m\n",
      "  * x0       = [0, 1, 1]\n",
      "  * x_sol    = [0.5000039123079645, 1.2499980438460179, 0.5000039123079643]\n",
      "  * f(x_sol) = 2.2499647893660764\n",
      "  * nb_iters = 6\n",
      "  * flag     = 0\n",
      "  * solution = [0.5, 1.25, 0.5]\n",
      "\u001b[31m\u001b[1mle cas de test 3\u001b[22m\u001b[39m\n",
      "-------------------------------------------------------------------------\n",
      "\u001b[34m\u001b[1mRésultats de : lagrangien_augmente pour τ=10  appliqué à f1:\u001b[22m\u001b[39m\n",
      "  * x0       = [0, 1, 1]\n",
      "  * x_sol    = [0.5000023075574306, 1.2499988462212848, 0.5000023075574306]\n",
      "  * f(x_sol) = 2.2499792320310488\n",
      "  * nb_iters = 5\n",
      "  * flag     = 0\n",
      "  * solution = [0.5, 1.25, 0.5]\n",
      "\u001b[32m\u001b[1mle cas de test 4\u001b[22m\u001b[39m\n",
      "-------------------------------------------------------------------------\n",
      "\u001b[34m\u001b[1mRésultats de : lagrangien_augmente pour τ=0.8  appliqué à f1:\u001b[22m\u001b[39m\n",
      "  * x0       = [0, 1, 1]\n",
      "  * x_sol    = [0.5862068965517241, 1.206896551724138, 0.5862068965517242]\n",
      "  * f(x_sol) = 1.5410225921521994\n",
      "  * nb_iters = 1000\n",
      "  * flag     = 1\n",
      "  * solution = [0.5, 1.25, 0.5]\n"
     ]
    }
   ],
   "source": [
    "include(\"../src/Lagrangien_Augmente.jl\")\n",
    "include(\"../test/tester_lagrangien_augmente.jl\")\n",
    "\n",
    "# Expérimentations numériques à faire ici.\n",
    "# Vous pouvez utiliser le package Plots pour les affichages de courbes: using Plots\n",
    "\n",
    "# Test pour l'impact de τ\n",
    "tol_erreur = 1e-4\n",
    "\n",
    "# initialisation des paramètres\n",
    "tol = 1e-5 # tol_abs et tol_rel\n",
    "\n",
    "#\n",
    "f1 = fct1; gf1 = grad_fct1; Hf1 = hess_fct1; c1 = contrainte1; gc1 = grad_contrainte1; Hc1 = hess_contrainte1\n",
    "f2 = fct2; gf2 = grad_fct2; Hf2 = hess_fct2; c2 = contrainte2; gc2 = grad_contrainte2; Hc2 = hess_contrainte2\n",
    "x01 = pts2.x01\n",
    "x02 = pts2.x02\n",
    "x03 = pts2.x03\n",
    "x04 = pts2.x04\n",
    "\n",
    "printstyled(\"le cas de test 1\\n\", bold=true, color=:red)\n",
    "x0 = x01\n",
    "x_sol, f_sol, flag, nb_iters, _ = lagrangien_augmente(f1, gf1, Hf1, c1, gc1, Hc1, x0, tol_abs=tol, tol_rel=tol, algo_noc=\"newton\")\n",
    "afficher_resultats(\"lagrangien_augmente pour τ=2 \", \"f1\", x0, x_sol, f_sol, flag, nb_iters, sol_fct1_augm)\n",
    "\n",
    "printstyled(\"le cas de test 2\\n\", bold=true, color=:red)\n",
    "x0 = x01\n",
    "x_sol, f_sol, flag, nb_iters, _ = lagrangien_augmente(f1, gf1, Hf1, c1, gc1, Hc1, x0, tol_abs=tol, tol_rel=tol, τ=3, algo_noc=\"newton\")\n",
    "afficher_resultats(\"lagrangien_augmente pour τ=6 \", \"f1\", x0, x_sol, f_sol, flag, nb_iters, sol_fct1_augm)\n",
    "\n",
    "printstyled(\"le cas de test 3\\n\", bold=true, color=:red)\n",
    "x0 = x01\n",
    "x_sol, f_sol, flag, nb_iters, _ = lagrangien_augmente(f1, gf1, Hf1, c1, gc1, Hc1, x0, tol_abs=tol, tol_rel=tol, τ=10, algo_noc=\"newton\")\n",
    "afficher_resultats(\"lagrangien_augmente pour τ=10 \", \"f1\", x0, x_sol, f_sol, flag, nb_iters, sol_fct1_augm)\n",
    "\n",
    "printstyled(\"le cas de test 4\\n\", bold=true, color=:green)\n",
    "x0 = x01\n",
    "x_sol, f_sol, flag, nb_iters, _ = lagrangien_augmente(f1, gf1, Hf1, c1, gc1, Hc1, x0, tol_abs=tol, tol_rel=tol, τ=1, algo_noc=\"newton\")\n",
    "afficher_resultats(\"lagrangien_augmente pour τ=0.8 \", \"f1\", x0, x_sol, f_sol, flag, nb_iters, sol_fct1_augm)"
   ]
  }
 ],
 "metadata": {
  "kernelspec": {
   "display_name": "Julia 1.9.3",
   "language": "julia",
   "name": "julia-1.9"
  },
  "language_info": {
   "file_extension": ".jl",
   "mimetype": "application/julia",
   "name": "julia",
   "version": "1.9.3"
  }
 },
 "nbformat": 4,
 "nbformat_minor": 4
}
