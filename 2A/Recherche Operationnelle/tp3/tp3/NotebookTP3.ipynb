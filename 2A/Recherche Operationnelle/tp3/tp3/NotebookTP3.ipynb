{
 "cells": [
  {
   "cell_type": "markdown",
   "metadata": {},
   "source": [
    "# TP 3 : Programmation dynamique\n",
    "AKKAR KHADIJA-ABOUMEJD WISSAL"
   ]
  },
  {
   "cell_type": "markdown",
   "metadata": {},
   "source": [
    "### Initialisation (à faire une seule fois)"
   ]
  },
  {
   "cell_type": "code",
   "execution_count": 2,
   "metadata": {},
   "outputs": [
    {
     "name": "stderr",
     "output_type": "stream",
     "text": [
      "\u001b[32m\u001b[1m    Updating\u001b[22m\u001b[39m registry at `~/.julia/registries/General.toml`\n",
      "\u001b[32m\u001b[1m   Resolving\u001b[22m\u001b[39m package versions...\n",
      "\u001b[32m\u001b[1m  No Changes\u001b[22m\u001b[39m to `~/.julia/environments/v1.9/Project.toml`\n",
      "\u001b[32m\u001b[1m  No Changes\u001b[22m\u001b[39m to `~/.julia/environments/v1.9/Manifest.toml`\n",
      "\u001b[32m\u001b[1m   Resolving\u001b[22m\u001b[39m package versions...\n",
      "\u001b[32m\u001b[1m  No Changes\u001b[22m\u001b[39m to `~/.julia/environments/v1.9/Project.toml`\n",
      "\u001b[32m\u001b[1m  No Changes\u001b[22m\u001b[39m to `~/.julia/environments/v1.9/Manifest.toml`\n"
     ]
    }
   ],
   "source": [
    "import Pkg; \n",
    "Pkg.add(\"GraphRecipes\"); Pkg.add(\"Plots\"); \n",
    "using GraphRecipes, Plots #only used to visualize the search tree at the end of the branch-and-bound"
   ]
  },
  {
   "cell_type": "markdown",
   "metadata": {},
   "source": [
    "### Récupération des données"
   ]
  },
  {
   "cell_type": "code",
   "execution_count": 24,
   "metadata": {},
   "outputs": [
    {
     "data": {
      "text/plain": [
       "readKnaptxtInstance (generic function with 1 method)"
      ]
     },
     "execution_count": 24,
     "metadata": {},
     "output_type": "execute_result"
    }
   ],
   "source": [
    "function readKnaptxtInstance(filename)\n",
    "    price=Int64[]\n",
    "    weight=Int64[]\n",
    "    KnapCap=Int64[]\n",
    "    open(filename) do f\n",
    "        for i in 1:3\n",
    "            tok = split(readline(f))\n",
    "            if(tok[1] == \"ListPrices=\")\n",
    "                for i in 2:(length(tok)-1)\n",
    "                    push!(price,parse(Int64, tok[i]))\n",
    "                end\n",
    "            elseif(tok[1] == \"ListWeights=\")\n",
    "                for i in 2:(length(tok)-1)\n",
    "                    push!(weight,parse(Int64, tok[i]))\n",
    "                end\n",
    "            elseif(tok[1] == \"Capacity=\")\n",
    "                push!(KnapCap, parse(Int64, tok[2]))\n",
    "            else\n",
    "                println(\"Unknown read :\", tok)\n",
    "            end\n",
    "        end\n",
    "    end\n",
    "    capacity=KnapCap[1]\n",
    "    return price, weight, capacity\n",
    "end"
   ]
  },
  {
   "cell_type": "markdown",
   "metadata": {},
   "source": [
    "### Calcul de la matrice de recursivité pour le problème du sac à dos"
   ]
  },
  {
   "cell_type": "code",
   "execution_count": 29,
   "metadata": {},
   "outputs": [
    {
     "name": "stdout",
     "output_type": "stream",
     "text": [
      "Solution optimale : [0, 1, 0, 1]\n",
      "Solution optimale : [0, 1, 0, 1]\n",
      "  0.000343 seconds (287 allocations: 15.039 KiB)\n"
     ]
    }
   ],
   "source": [
    "# parametres : liste des poids, liste des couts et la capacité totale.\n",
    "# retour : la liste des xi/liste des x_optimales pour le problème de sac à dos \n",
    "\n",
    "function matriceRecurrence(weight, price, capacity)\n",
    "    n = length(price)\n",
    "    # Initialisation de la matrice de recursivité\n",
    "    C = zeros(Int, n+1, capacity+1)\n",
    "\n",
    "    # Calcul de la matrice de récurrence\n",
    "    for i in 1:n\n",
    "        for j in 0:capacity\n",
    "            if weight[i] > j\n",
    "                C[i+1, j+1] = C[i, j+1]\n",
    "            else\n",
    "                C[i+1, j+1] = max(C[i, j+1], C[i, j-weight[i]+1] + price[i])\n",
    "            end\n",
    "        end\n",
    "    end\n",
    "\n",
    "    # Reconstruction de la solution\n",
    "    listxi = zeros(Int, n)\n",
    "    i, j = n, capacity\n",
    "    while i > 0 && j > 0\n",
    "        if i == 1\n",
    "            # Traitement du premier élément\n",
    "            listxi[i] = C[i, j+1] > 0 ? 1 : 0\n",
    "        elseif C[i+1, j+1] != C[i, j+1]\n",
    "            # Si la valeur change, on inclut l'élément dans la solution\n",
    "            listxi[i] = 1\n",
    "            j -= weight[i]\n",
    "        end\n",
    "        i -= 1\n",
    "    end\n",
    "\n",
    "    return listxi\n",
    "end\n",
    "\n",
    "# Mesurer le temps d'exécution\n",
    "@time begin\n",
    "    # Exemple d'utilisation avec l'exemple du TP\n",
    "    P = [42, 40, 12, 25]\n",
    "    w = [7, 4, 3, 5]\n",
    "    Q = 10\n",
    "\n",
    "    x_optimal = matriceRecurrence(w, P, Q)\n",
    "    println(\"Solution optimale : \", x_optimal)\n",
    "end\n",
    "\n",
    "\n"
   ]
  },
  {
   "cell_type": "markdown",
   "metadata": {},
   "source": [
    " ### Affichage du résultat final pour le problème du sac à dos"
   ]
  },
  {
   "cell_type": "code",
   "execution_count": 26,
   "metadata": {},
   "outputs": [
    {
     "data": {
      "text/plain": [
       "SolveKnapInstance (generic function with 1 method)"
      ]
     },
     "execution_count": 26,
     "metadata": {},
     "output_type": "execute_result"
    }
   ],
   "source": [
    "function SolveKnapInstance(filename)\n",
    "    if true\n",
    "        price, weight, capacity = readKnaptxtInstance(filename)\n",
    "        n = length(price)\n",
    "        x_optimal = zeros(n, 1)\n",
    "        \n",
    "        x_optimal = matriceRecurrence(weight,price, capacity)\n",
    "        \n",
    "        println(\"x_optimal=La listes des xi pour les objets résultants: \")\n",
    "        println(x_optimal)\n",
    "        println()\n",
    "        \n",
    "        return x_optimal\n",
    "    end\n",
    "end"
   ]
  },
  {
   "cell_type": "code",
   "execution_count": 30,
   "metadata": {},
   "outputs": [
    {
     "name": "stdout",
     "output_type": "stream",
     "text": [
      "x_optimal=La listes des xi pour les objets résultants: \n",
      "[0, 0, 0, 0, 0, 0, 0, 0, 0, 0, 0, 0, 0, 0, 1, 0, 0, 0, 0, 0, 0, 0, 0, 0, 0, 0, 0, 0, 0, 0, 0, 0, 0, 0, 0, 0, 0, 0, 0, 0, 0, 0, 1, 0, 1, 0, 0, 0, 0, 0, 0, 0, 0, 0, 0, 0, 1, 0, 0, 0, 0, 0, 0, 0, 0, 0, 0, 0, 0, 0, 0, 0, 0, 1, 0, 0, 0, 0, 1, 0, 0, 0, 0, 0, 1, 0, 0, 0, 0, 0, 0, 0, 0, 0, 0, 0, 0, 0, 0, 0, 0, 0, 0, 0, 0, 0, 1, 0, 0, 0, 0, 0, 0, 0, 0, 0, 0, 0, 0, 0, 0, 0, 0, 0, 0, 0, 0, 0, 0, 0, 0, 0, 0, 0, 0, 0, 0, 0, 0, 0, 0, 0, 0, 0, 1, 0, 0, 1, 0, 0, 0, 0, 0, 0, 0, 0, 0, 0, 0, 0, 0, 0, 0, 0, 0, 0, 0, 0, 0, 0, 0, 0, 0, 0, 0, 0, 1, 0, 1, 0, 0, 0, 0, 0, 0, 0, 0, 0, 0, 0, 0, 1, 0, 0, 0, 0, 1, 0, 0, 0, 0, 0, 0, 0, 0, 0, 1, 0, 0, 0, 0, 1, 0, 0, 0, 0, 0, 0, 0, 0, 0, 0, 0, 0, 0, 0, 0, 1, 0, 0, 0, 0, 0, 0, 0, 0, 0, 0, 0, 0, 0, 1, 0, 0, 0, 1, 0, 0, 0, 0, 0, 0, 0, 0, 0, 0, 0, 0, 0, 0, 0, 0, 0, 1, 0, 0, 0, 1, 0, 1, 0, 0, 1, 0, 0, 0, 0, 0, 1, 0, 0, 0, 0, 0, 0, 0, 0, 0, 0, 0, 0, 0, 0, 0, 1, 0, 0, 0, 1, 0, 0, 0, 0, 1, 0, 0, 0, 0, 0, 0, 0, 0, 0, 0, 0, 0, 0, 1, 0, 0, 0, 0, 0, 0, 0, 1, 0, 0, 1, 0, 0, 0, 0, 0, 0, 0, 0, 0, 0, 0, 0, 0, 1, 0, 0, 0, 0, 0, 0, 0, 1, 1, 0, 0, 0, 0, 0, 0, 0, 0, 1, 0, 0, 0, 0, 0, 0, 0, 0, 0, 1, 0, 0, 0, 0, 0, 0, 0, 1, 0, 0, 0, 1, 0, 0, 0, 0, 0, 0, 0, 0, 0, 0, 0, 0, 0, 0, 0, 0, 0, 0, 0, 0, 0, 0, 0, 0, 0, 0, 1, 1, 1, 0, 0, 0, 0, 0, 0, 0, 1, 0, 0, 0, 0, 0, 0, 0, 0, 0, 0, 0, 0, 0, 0, 0, 0, 0, 0, 0, 0, 0, 0, 0, 1, 0, 0, 0, 1, 0, 0, 0, 0, 0, 0, 0, 0, 0, 0, 0, 0, 0, 0, 0, 1, 0, 0, 0, 0, 0, 0, 0, 0, 0, 1, 0, 0, 0, 0, 0, 0, 0, 0, 0, 1, 0, 0, 0, 0, 0, 0, 1, 0, 0, 0, 0, 0, 0, 0, 0, 0]\n",
      "\n",
      "\n",
      "\n",
      "Optimal1 x=[0, 0, 0, 0, 0, 0, 0, 0, 0, 0, 0, 0, 0, 0, 1, 0, 0, 0, 0, 0, 0, 0, 0, 0, 0, 0, 0, 0, 0, 0, 0, 0, 0, 0, 0, 0, 0, 0, 0, 0, 0, 0, 1, 0, 1, 0, 0, 0, 0, 0, 0, 0, 0, 0, 0, 0, 1, 0, 0, 0, 0, 0, 0, 0, 0, 0, 0, 0, 0, 0, 0, 0, 0, 1, 0, 0, 0, 0, 1, 0, 0, 0, 0, 0, 1, 0, 0, 0, 0, 0, 0, 0, 0, 0, 0, 0, 0, 0, 0, 0, 0, 0, 0, 0, 0, 0, 1, 0, 0, 0, 0, 0, 0, 0, 0, 0, 0, 0, 0, 0, 0, 0, 0, 0, 0, 0, 0, 0, 0, 0, 0, 0, 0, 0, 0, 0, 0, 0, 0, 0, 0, 0, 0, 0, 1, 0, 0, 1, 0, 0, 0, 0, 0, 0, 0, 0, 0, 0, 0, 0, 0, 0, 0, 0, 0, 0, 0, 0, 0, 0, 0, 0, 0, 0, 0, 0, 1, 0, 1, 0, 0, 0, 0, 0, 0, 0, 0, 0, 0, 0, 0, 1, 0, 0, 0, 0, 1, 0, 0, 0, 0, 0, 0, 0, 0, 0, 1, 0, 0, 0, 0, 1, 0, 0, 0, 0, 0, 0, 0, 0, 0, 0, 0, 0, 0, 0, 0, 1, 0, 0, 0, 0, 0, 0, 0, 0, 0, 0, 0, 0, 0, 1, 0, 0, 0, 1, 0, 0, 0, 0, 0, 0, 0, 0, 0, 0, 0, 0, 0, 0, 0, 0, 0, 1, 0, 0, 0, 1, 0, 1, 0, 0, 1, 0, 0, 0, 0, 0, 1, 0, 0, 0, 0, 0, 0, 0, 0, 0, 0, 0, 0, 0, 0, 0, 1, 0, 0, 0, 1, 0, 0, 0, 0, 1, 0, 0, 0, 0, 0, 0, 0, 0, 0, 0, 0, 0, 0, 1, 0, 0, 0, 0, 0, 0, 0, 1, 0, 0, 1, 0, 0, 0, 0, 0, 0, 0, 0, 0, 0, 0, 0, 0, 1, 0, 0, 0, 0, 0, 0, 0, 1, 1, 0, 0, 0, 0, 0, 0, 0, 0, 1, 0, 0, 0, 0, 0, 0, 0, 0, 0, 1, 0, 0, 0, 0, 0, 0, 0, 1, 0, 0, 0, 1, 0, 0, 0, 0, 0, 0, 0, 0, 0, 0, 0, 0, 0, 0, 0, 0, 0, 0, 0, 0, 0, 0, 0, 0, 0, 0, 1, 1, 1, 0, 0, 0, 0, 0, 0, 0, 1, 0, 0, 0, 0, 0, 0, 0, 0, 0, 0, 0, 0, 0, 0, 0, 0, 0, 0, 0, 0, 0, 0, 0, 1, 0, 0, 0, 1, 0, 0, 0, 0, 0, 0, 0, 0, 0, 0, 0, 0, 0, 0, 0, 1, 0, 0, 0, 0, 0, 0, 0, 0, 0, 1, 0, 0, 0, 0, 0, 0, 0, 0, 0, 1, 0, 0, 0, 0, 0, 0, 1, 0, 0, 0, 0, 0, 0, 0, 0, 0]\n",
      "  0.130471 seconds (44.18 k allocations: 10.024 MiB, 41.17% compilation time: 100% of which was recompilation)\n",
      "x_optimal=La listes des xi pour les objets résultants: \n",
      "[0, 0, 1, 0, 0, 1, 0, 0, 0, 0, 0, 0, 0, 0, 1, 0, 1, 0, 0, 0]\n",
      "\n",
      "\n",
      "\n",
      "Optimal2 x=[0, 0, 1, 0, 0, 1, 0, 0, 0, 0, 0, 0, 0, 0, 1, 0, 1, 0, 0, 0]\n",
      "  0.006438 seconds (1.57 k allocations: 225.612 KiB)\n"
     ]
    }
   ],
   "source": [
    "\n",
    "@time begin\n",
    "    file = \"circle/knapPI_16_100_1000_5_-8569.opb.txt\"\n",
    "    x_optimal = SolveKnapInstance(file)\n",
    "    println(\"\\n\\nOptimal1 x=\", x_optimal)\n",
    "end\n",
    "\n",
    "@time begin\n",
    "    file = \"profit_ceiling/knapPI_15_20_1000_1_-999.opb.txt\"\n",
    "    x_optimal = SolveKnapInstance(file)\n",
    "    println(\"\\n\\nOptimal2 x=\", x_optimal)\n",
    "end"
   ]
  },
  {
   "cell_type": "markdown",
   "metadata": {},
   "source": [
    "**BONUS** \n",
    "**Le plus court chemin dans un graphe: Algorithme de Bellman-Ford**"
   ]
  },
  {
   "cell_type": "code",
   "execution_count": 19,
   "metadata": {},
   "outputs": [
    {
     "data": {
      "text/plain": [
       "calculerSolution (generic function with 1 method)"
      ]
     },
     "execution_count": 19,
     "metadata": {},
     "output_type": "execute_result"
    }
   ],
   "source": [
    "\n",
    "function rechercheCheminOptimal(sommets, capacite)\n",
    "    \"\"\"\n",
    "    Recherche le chemin optimal dans une matrice de coûts.\n",
    "\n",
    "    Parameters:\n",
    "    - couts : Matrice des coûts, couts[i, j] représente le coût du chemin de i à j.\n",
    "    - capacite : Capacité maximale de recherche.\n",
    "\n",
    "    Returns:\n",
    "    - matriceChemin : Matrice représentant le chemin optimal avec les coûts accumulés.\n",
    "    - iterations : Nombre d'itérations effectuées pour trouver le chemin optimal.\n",
    "    \"\"\"\n",
    "    ns = length(sommets)\n",
    "    matriceChemin = [(Inf, 0) for i=1:(ns+1), j=1:ns]\n",
    "    for l in 1:(ns+1)\n",
    "        matriceChemin[l, 1] = (0, 1)\n",
    "    end\n",
    "    # Boolean pour arrêter la boucle de recherche\n",
    "    continuer = true\n",
    "    # Indice compteur d'itération de while\n",
    "    it = 1\n",
    "    while continuer && it <= ns+1\n",
    "        it += 1\n",
    "        for i in 2:ns\n",
    "            min = Inf\n",
    "            som = 0\n",
    "            for j in 1:ns\n",
    "                cout = capacite[j, i]\n",
    "                if cout < Inf\n",
    "                    (c, s) = matriceChemin[it-1, j]\n",
    "                    cheminCalculer = c + capacite[j, i]\n",
    "                    if cheminCalculer < min\n",
    "                        min = cheminCalculer\n",
    "                        som = j\n",
    "                    end\n",
    "                end\n",
    "            end\n",
    "            matriceChemin[it, i] = (min, som)\n",
    "        end\n",
    "        stop = true\n",
    "        i = 1\n",
    "        while stop && i <= ns\n",
    "            if matriceChemin[it, i] != matriceChemin[it-1, i]\n",
    "                stop = false\n",
    "            end\n",
    "            i = i + 1\n",
    "        end\n",
    "        if stop\n",
    "            continuer = false\n",
    "        end\n",
    "    end\n",
    "    return matriceChemin, it\n",
    "end\n",
    "\n",
    "\n",
    "function calculerSolution(matriceChemin, iteration, sommets, sommetFinal)\n",
    "    \"\"\"\n",
    "    Calcule la solution optimale du chemin à partir d'une matrice de coûts accumulés.\n",
    "\n",
    "    Parameters:\n",
    "    - matriceChemin : Matrice représentant le chemin optimal avec les coûts accumulés.\n",
    "    - iteration : Dernière itération effectuée pour trouver le chemin optimal.\n",
    "    - sommets : Liste des sommets disponibles.\n",
    "    - sommetFinal : Sommet à atteindre (indice du sommet dans la liste des sommets).\n",
    "\n",
    "    Returns:\n",
    "    - listeSommets : Liste des sommets à parcourir pour aller du premier sommet au sommet à atteindre.\n",
    "    - longueurChemin : Longueur du chemin parcouru.\n",
    "    \"\"\"\n",
    "    listeSommets = []  # Liste finale des sommets à parcourir\n",
    "    ns = length(sommets)\n",
    "\n",
    "    # Récupération de la longueur totale du chemin et du sommet courant\n",
    "    (longueurChemin, sommetCourant) = matriceChemin[iteration, sommetFinal]\n",
    "\n",
    "    # Ajout des sommets au parcours\n",
    "    push!(listeSommets, sommetFinal)\n",
    "    push!(listeSommets, sommetCourant)\n",
    "\n",
    "    # Reconstruction du parcours\n",
    "    while sommetCourant != 1\n",
    "        (cout, sommetCourant) = matriceChemin[iteration, sommetCourant]\n",
    "        push!(listeSommets, sommetCourant)\n",
    "    end\n",
    "\n",
    "    listeSommets = reverse(listeSommets)\n",
    "    return listeSommets, longueurChemin\n",
    "end\n",
    "\n"
   ]
  },
  {
   "cell_type": "code",
   "execution_count": 20,
   "metadata": {},
   "outputs": [
    {
     "name": "stdout",
     "output_type": "stream",
     "text": [
      "[(0.0, 1) (Inf, 0) (Inf, 0) (Inf, 0) (Inf, 0) (Inf, 0); (0.0, 1) (3.0, 1) (Inf, 0) (Inf, 0) (5.0, 1) (Inf, 0); (0.0, 1) (3.0, 1) (7.0, 2) (14.0, 5) (5.0, 1) (Inf, 0); (0.0, 1) (3.0, 1) (7.0, 2) (9.0, 3) (5.0, 1) (17.0, 4); (0.0, 1) (3.0, 1) (7.0, 2) (9.0, 3) (5.0, 1) (12.0, 4); (0.0, 1) (3.0, 1) (7.0, 2) (9.0, 3) (5.0, 1) (12.0, 4); (0.0, 1) (Inf, 0) (Inf, 0) (Inf, 0) (Inf, 0) (Inf, 0)]\n",
      "Any[1, 2, 3, 4, 6]\n",
      "12.0\n",
      "Any[1, 2, 3, 4, 6]\n",
      "12.0\n"
     ]
    }
   ],
   "source": [
    "# Tests du données du TP\n",
    "capacite = [0 3 Inf Inf 5 Inf; \n",
    "        Inf 0 4 Inf Inf Inf; \n",
    "        Inf Inf 0 2 Inf Inf; \n",
    "        Inf Inf Inf 0 Inf 3; \n",
    "        Inf -1 Inf 9 0 Inf; \n",
    "        Inf Inf Inf Inf Inf 0]\n",
    "sommets = [1 2 3 4 5 6]\n",
    "matriceChemin, it = rechercheCheminOptimal(sommets, capacite)\n",
    "println(matriceChemin)\n",
    "listS , longC = CalculerSolution(matriceChemin, it, sommets, length(sommets))\n",
    "println(listS)\n",
    "println(longC)\n",
    "\n",
    "list , long = CalculerSolution(matriceChemin, it, sommets, 4)\n",
    "println(listS)\n",
    "println(longC)\n"
   ]
  },
  {
   "cell_type": "markdown",
   "metadata": {},
   "source": [
    "# Questions:\n",
    "\n",
    "**1.**\n",
    "La programmation dynamique est une technique algorithmique qui résout des problèmes en les subdivisant en sous-problèmes plus petits. On résout chaque sous-problème une seule fois, en mémorisant les résultats pour éviter les recalculs.\n",
    "\n",
    "La relation de récurrence décrit la solution du problème global en termes de solutions des sous-problèmes.\n",
    "\n",
    "**2.** Voir le code\n",
    "\n",
    "**3.**\n",
    "Pour l'exemple :\n",
    "        Liste des poids (w) : [7, 4, 3, 5]\n",
    "        Liste des coûts (P) : [42, 40, 12, 25]\n",
    "        Capacité totale (Q) : 10\n",
    "\n",
    "La solution optimale obtenue est [0, 1, 0, 1], ce qui signifie que le deuxième et le quatrième élément doivent être inclus dans la solution optimale. Cette solution est adéquate car elle respecte les contraintes du problème et fournit la meilleure combinaison d'éléments pour maximiser la valeur totale. Toutes les autres combinaisons soit dépassent la capacité totale, soit le coût en sortie est inférieur à celui de la solution [0, 1, 0, 1].\n",
    "\n",
    "**4.**\n",
    "- Initialisation de la matrice de récurrence (C) : Une matrice C de dimensions (n+1)×(capacity+1) est créée, où n est le nombre d'éléments dans le sac à dos et capacity est la capacité totale du sac. La matrice est initialisée avec des zéros de type entier.\n",
    "\n",
    "- Calcul de la matrice de récurrence : Deux boucles imbriquées parcourent la matrice C, une pour chaque élément du sac (i) et une pour chaque capacité possible (j). La valeur C[i+1,j+1] de la matrice est calculée en comparant le poids de l'élément i avec la capacité j :\n",
    "\n",
    "    -- Si le poids de l'élément i est supérieur à j, la valeur reste la même que celle du sous-problème précédent (C[i+1,j+1]=C[i,j+1]).\n",
    "    \n",
    "    -- Sinon, la valeur est le maximum entre la valeur du sous-problème précédent (C[i,j+1]) et la somme du coût de l'élément i et de la valeur du sous-problème correspondant à la capacité restante (C[i,j−weight[i]+1]+price[i]).\n",
    "\n",
    "- Reconstruction de la solution : Une fois que la matrice de récurrence est construite, on reconstruit la solution optimale en parcourant la matrice en sens inverse. On initialise une liste listxi de nn éléments à zéro, puis on remonte de la dernière cellule de la matrice à la première. À chaque étape, on décide d'inclure ou non l'élément dans la solution optimale en comparant les valeurs de la matrice. La variable j est ajustée en conséquence.\n",
    "\n",
    "- Retour de la solution optimale : La liste listxi est la solution optimale, où listxi[i] est égal à 1 si l'élément i doit être inclus dans la solution et 0 sinon.\n",
    "\n",
    "\n",
    "**5.**\n",
    "\n",
    "\n",
    "**Pour le test de la fonction matriceRecurrence avec l'instance: \"circle/knapPI_16_100_1000_5_-8569.opb.txt\", on a obtenu le résultat:**\n",
    "\n",
    "x_optimal1=La listes des xi pour les objets résultants: \n",
    "\n",
    "[0, 0, 0, 0, 0, 0, 0, 0, 0, 0, 0, 0, 0, 0, 1, 0, 0, 0, 0, 0, 0, 0, 0, 0, 0, 0, 0, 0, 0, 0, 0, 0, 0, 0, 0, 0, 0, 0, 0, 0, 0, 0, 1, 0, 1, 0, 0, 0, 0, 0, 0, 0, 0, 0, 0, 0, 1, 0, 0, 0, 0, 0, 0, 0, 0, 0, 0, 0, 0, 0, 0, 0, 0, 1, 0, 0, 0, 0, 1, 0, 0, 0, 0, 0, 1, 0, 0, 0, 0, 0, 0, 0, 0, 0, 0, 0, 0, 0, 0, 0, 0, 0, 0, 0, 0, 0, 1, 0, 0, 0, 0, 0, 0, 0, 0, 0, 0, 0, 0, 0, 0, 0, 0, 0, 0, 0, 0, 0, 0, 0, 0, 0, 0, 0, 0, 0, 0, 0, 0, 0, 0, 0, 0, 0, 1, 0, 0, 1, 0, 0, 0, 0, 0, 0, 0, 0, 0, 0, 0, 0, 0, 0, 0, 0, 0, 0, 0, 0, 0, 0, 0, 0, 0, 0, 0, 0, 1, 0, 1, 0, 0, 0, 0, 0, 0, 0, 0, 0, 0, 0, 0, 1, 0, 0, 0, 0, 1, 0, 0, 0, 0, 0, 0, 0, 0, 0, 1, 0, 0, 0, 0, 1, 0, 0, 0, 0, 0, 0, 0, 0, 0, 0, 0, 0, 0, 0, 0, 1, 0, 0, 0, 0, 0, 0, 0, 0, 0, 0, 0, 0, 0, 1, 0, 0, 0, 1, 0, 0, 0, 0, 0, 0, 0, 0, 0, 0, 0, 0, 0, 0, 0, 0, 0, 1, 0, 0, 0, 1, 0, 1, 0, 0, 1, 0, 0, 0, 0, 0, 1, 0, 0, 0, 0, 0, 0, 0, 0, 0, 0, 0, 0, 0, 0, 0, 1, 0, 0, 0, 1, 0, 0, 0, 0, 1, 0, 0, 0, 0, 0, 0, 0, 0, 0, 0, 0, 0, 0, 1, 0, 0, 0, 0, 0, 0, 0, 1, 0, 0, 1, 0, 0, 0, 0, 0, 0, 0, 0, 0, 0, 0, 0, 0, 1, 0, 0, 0, 0, 0, 0, 0, 1, 1, 0, 0, 0, 0, 0, 0, 0, 0, 1, 0, 0, 0, 0, 0, 0, 0, 0, 0, 1, 0, 0, 0, 0, 0, 0, 0, 1, 0, 0, 0, 1, 0, 0, 0, 0, 0, 0, 0, 0, 0, 0, 0, 0, 0, 0, 0, 0, 0, 0, 0, 0, 0, 0, 0, 0, 0, 0, 1, 1, 1, 0, 0, 0, 0, 0, 0, 0, 1, 0, 0, 0, 0, 0, 0, 0, 0, 0, 0, 0, 0, 0, 0, 0, 0, 0, 0, 0, 0, 0, 0, 0, 1, 0, 0, 0, 1, 0, 0, 0, 0, 0, 0, 0, 0, 0, 0, 0, 0, 0, 0, 0, 1, 0, 0, 0, 0, 0, 0, 0, 0, 0, 1, 0, 0, 0, 0, 0, 0, 0, 0, 0, 1, 0, 0, 0, 0, 0, 0, 1, 0, 0, 0, 0, 0, 0, 0, 0, 0]\n",
    "BestProfit = 12190\n",
    "\n",
    "**Avec l'instance: \"profit_ceiling/knapPI_15_20_1000_1_-999.opb.txt\" on a obtenu le résultat:**\n",
    "x_optimal2=[0, 0, 1, 0, 0, 1, 0, 0, 0, 0, 0, 0, 0, 0, 1, 0, 1, 0, 0, 0]\n",
    "BestProfit = 999\n",
    "\n",
    "**Avec l'exemple suivant:**\n",
    "P = [42, 40, 12, 25]\n",
    "w = [7, 4, 3, 5]\n",
    "Q = 10\n",
    "\n",
    "On a trouvé : \n",
    "x_optimal3 = [0, 1, 0, 1]\n",
    "BestProfit = 65\n",
    "\n",
    "**6.**\n",
    "\n",
    "En testant notre algorithme de programmation dynamique, nous avons obtenu rapidement des résultats précis. Par exemple, pour une instance d'au moins 20 objets, l'algorithme a généré la solution optimale Optimal2=[0, 0, 1, 0, 0, 1, 0, 0, 0, 0, 0, 0, 0, 0, 1, 0, 1, 0, 0, 0] en seulement 0.006438 secondes, avec un usage mémoire modéré (1.57 k allocations: 225.612 KiB).\n",
    "\n",
    "En revanche, lorsque nous avons tenté d'appliquer la même approche de calcul de temps à notre algorithme de Branch-and-Bound, celui-ci a présenté des performances insatisfaisantes. Le programme orends plusieurs minutes pour résoudre le problème.\n",
    "\n",
    "En général, on peut conclure que les deux algorithmes ont leurs avantages et inconvénients. Branch-and-Bound gère bien les problèmes de grande taille, mais il peut être moins utile et demander plus de temps de calcul. En revanche, la programmation dynamique reste très efficace pour des problèmes de petite taille, offrant une résolution rapide."
   ]
  }
 ],
 "metadata": {
  "kernelspec": {
   "display_name": "Julia 1.9.3",
   "language": "julia",
   "name": "julia-1.9"
  },
  "language_info": {
   "file_extension": ".jl",
   "mimetype": "application/julia",
   "name": "julia",
   "version": "1.9.3"
  }
 },
 "nbformat": 4,
 "nbformat_minor": 4
}
